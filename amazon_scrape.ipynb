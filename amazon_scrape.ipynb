{
 "cells": [
  {
   "cell_type": "code",
   "execution_count": 60,
   "id": "93257dcb",
   "metadata": {},
   "outputs": [],
   "source": [
    "from urllib.request import urlopen\n",
    "from bs4 import BeautifulSoup as soup\n",
    "import requests\n",
    "import pandas as pd\n",
    "#set headers\n",
    "header = {'user-agent':'Mozilla/5.0 (Windows NT 10.0; WOW64) AppleWebKit/537.36 (KHTML, like Gecko) Chrome/81.0.4044.138 Safari/537.36','Referer':'https://www.amazon.com/stores/page/0B6B05F4-EE4D-4696-A789-BB7152AB8DCE?ingress=0&visitId=9365015c-39f1-4f05-8ec9-61dfafb3a84a&channel=SB-gway&liveVideoDataUrl=https%3A%2F%2Famazonlive-portal.amazon.com%2Fv2&ref_=sb_w_i_ctcd_snkrs&productGridPageIndex=4'}"
   ]
  },
  {
   "cell_type": "code",
   "execution_count": 71,
   "id": "d14671b0",
   "metadata": {},
   "outputs": [],
   "source": [
    "linksof=[]\n",
    "linksof.append('https://www.amazon.in/s?k=bags&crid=2M096C61O4MLT&qid=1653308124&sprefix=ba%2Caps%2C283&ref=sr_pg_1')\n",
    "linksof.append('https://www.amazon.in/s?k=bags&page=2&crid=2M096C61O4MLT&qid=1685169737&sprefix=ba%2Caps%2C283&ref=sr_pg_2')\n",
    "linksof.append('https://www.amazon.in/s?k=bags&page=3&crid=2M096C61O4MLT&qid=1685194785&sprefix=ba%2Caps%2C283&ref=sr_pg_3')\n",
    "linksof.append('https://www.amazon.in/s?k=bags&page=4&crid=2M096C61O4MLT&qid=1685205576&sprefix=ba%2Caps%2C283&ref=sr_pg_4')\n",
    "linksof.append('https://www.amazon.in/s?k=bags&page=5&crid=2M096C61O4MLT&qid=1685205589&sprefix=ba%2Caps%2C283&ref=sr_pg_5')\n",
    "linksof.append('https://www.amazon.in/s?k=bags&page=6&crid=2M096C61O4MLT&qid=1685205600&sprefix=ba%2Caps%2C283&ref=sr_pg_6')\n",
    "linksof.append('https://www.amazon.in/s?k=bags&page=7&crid=2M096C61O4MLT&qid=1685205610&sprefix=ba%2Caps%2C283&ref=sr_pg_7')\n",
    "linksof.append('https://www.amazon.in/s?k=bags&page=8&crid=2M096C61O4MLT&qid=1685205622&sprefix=ba%2Caps%2C283&ref=sr_pg_8')\n",
    "linksof.append('https://www.amazon.in/s?k=bags&page=9&crid=2M096C61O4MLT&qid=1685205631&sprefix=ba%2Caps%2C283&ref=sr_pg_9')\n",
    "linksof.append('https://www.amazon.in/s?k=bags&page=10&crid=2M096C61O4MLT&qid=1685205640&sprefix=ba%2Caps%2C283&ref=sr_pg_10')\n",
    "linksof.append('https://www.amazon.in/s?k=bags&page=11&crid=2M096C61O4MLT&qid=1685205651&sprefix=ba%2Caps%2C283&ref=sr_pg_11')\n",
    "linksof.append('https://www.amazon.in/s?k=bags&page=12&crid=2M096C61O4MLT&qid=1685205662&sprefix=ba%2Caps%2C283&ref=sr_pg_12')\n",
    "linksof.append('https://www.amazon.in/s?k=bags&page=13&crid=2M096C61O4MLT&qid=1685205670&sprefix=ba%2Caps%2C283&ref=sr_pg_13')\n",
    "linksof.append('https://www.amazon.in/s?k=bags&page=14&crid=2M096C61O4MLT&qid=1685205679&sprefix=ba%2Caps%2C283&ref=sr_pg_14')\n",
    "linksof.append('https://www.amazon.in/s?k=bags&page=15&crid=2M096C61O4MLT&qid=1685205690&sprefix=ba%2Caps%2C283&ref=sr_pg_15')\n",
    "linksof.append('https://www.amazon.in/s?k=bags&page=16&crid=2M096C61O4MLT&qid=1685205699&sprefix=ba%2Caps%2C283&ref=sr_pg_16')\n",
    "linksof.append('https://www.amazon.in/s?k=bags&page=17&crid=2M096C61O4MLT&qid=1685205707&sprefix=ba%2Caps%2C283&ref=sr_pg_17')\n",
    "linksof.append('https://www.amazon.in/s?k=bags&page=18&crid=2M096C61O4MLT&qid=1685205714&sprefix=ba%2Caps%2C283&ref=sr_pg_18')\n",
    "linksof.append('https://www.amazon.in/s?k=bags&page=19&crid=2M096C61O4MLT&qid=1685205726&sprefix=ba%2Caps%2C283&ref=sr_pg_19')\n",
    "linksof.append('https://www.amazon.in/s?k=bags&page=20&crid=2M096C61O4MLT&qid=1685205734&sprefix=ba%2Caps%2C283&ref=sr_pg_20')\n"
   ]
  },
  {
   "cell_type": "code",
   "execution_count": 73,
   "id": "306dd0c0",
   "metadata": {},
   "outputs": [],
   "source": [
    "list_of_lists=[]\n",
    "for z in linksof:\n",
    "    url=z\n",
    "    html = requests.get(url,headers=header)\n",
    "    soup = BeautifulSoup(html.content, \"html.parser\")\n",
    "    price= soup.findAll(\"div\", attrs={'class':'sg-col-20-of-24 s-result-item s-asin sg-col-0-of-12 sg-col-16-of-20 sg-col s-widget-spacing-small sg-col-12-of-16'})\n",
    "    \n",
    "    for x in price:\n",
    "        ul=[]\n",
    "        ul.append(x.find('span', attrs={'class':'a-size-medium a-color-base a-text-normal'}).text)\n",
    "        nam=(x.find('span', attrs={'class':'a-price-whole'}))\n",
    "        if nam is not None:\n",
    "            ul.append(nam.text)\n",
    "        else:\n",
    "            ul.append(\"unknown\")\n",
    "        lam=(x.find('span', attrs={'class':'a-icon-alt'}))\n",
    "        if lam is not None:\n",
    "            ul.append(lam.text)\n",
    "        else:\n",
    "            ul.append(\"unknown\")\n",
    "        mam=(x.find('span', attrs={'class':'a-size-base s-underline-text'}))\n",
    "        if mam is not None:\n",
    "            ul.append(mam.text)\n",
    "        else:\n",
    "            ul.append(\"unknown\")\n",
    "        ul.append(\"www.amazon.in\" + x.a.get('href'))\n",
    "        list_of_lists.append(ul)"
   ]
  },
  {
   "cell_type": "code",
   "execution_count": 75,
   "id": "b35b960d",
   "metadata": {},
   "outputs": [],
   "source": [
    "df = pd.DataFrame(list_of_lists, columns=['Product Name', 'Cost', ' Rating', 'Reviews','Product URL'])\n",
    "df.to_csv('amznscrape1.csv', index=True, sep=',')"
   ]
  },
  {
   "cell_type": "code",
   "execution_count": 74,
   "id": "dc5b1858",
   "metadata": {},
   "outputs": [
    {
     "data": {
      "text/plain": [
       "306"
      ]
     },
     "execution_count": 74,
     "metadata": {},
     "output_type": "execute_result"
    }
   ],
   "source": [
    "len(list_of_lists)"
   ]
  },
  {
   "cell_type": "code",
   "execution_count": 77,
   "id": "88778a7f",
   "metadata": {},
   "outputs": [
    {
     "data": {
      "text/plain": [
       "'www.amazon.in/Wesley-Milestone-Waterproof-Backpack-Business/dp/B084JGJ8PF/ref=ice_ac_b_dpb?crid=2M096C61O4MLT&keywords=bags&qid=1685206987&sprefix=ba%2Caps%2C283&sr=8-3'"
      ]
     },
     "execution_count": 77,
     "metadata": {},
     "output_type": "execute_result"
    }
   ],
   "source": [
    "list_of_lists[0][4]"
   ]
  },
  {
   "cell_type": "code",
   "execution_count": 79,
   "id": "b8027a37",
   "metadata": {},
   "outputs": [
    {
     "data": {
      "text/plain": [
       "'https://www.amazon.in/s?k=bags&page=11&crid=2M096C61O4MLT&qid=1685205651&sprefix=ba%2Caps%2C283&ref=sr_pg_11'"
      ]
     },
     "execution_count": 79,
     "metadata": {},
     "output_type": "execute_result"
    }
   ],
   "source": [
    "linksof[10]"
   ]
  },
  {
   "cell_type": "code",
   "execution_count": null,
   "id": "8b4f841b",
   "metadata": {},
   "outputs": [],
   "source": []
  }
 ],
 "metadata": {
  "kernelspec": {
   "display_name": "Python 3 (ipykernel)",
   "language": "python",
   "name": "python3"
  },
  "language_info": {
   "codemirror_mode": {
    "name": "ipython",
    "version": 3
   },
   "file_extension": ".py",
   "mimetype": "text/x-python",
   "name": "python",
   "nbconvert_exporter": "python",
   "pygments_lexer": "ipython3",
   "version": "3.10.6"
  }
 },
 "nbformat": 4,
 "nbformat_minor": 5
}
